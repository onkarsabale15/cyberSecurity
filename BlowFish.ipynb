{
  "nbformat": 4,
  "nbformat_minor": 0,
  "metadata": {
    "colab": {
      "provenance": []
    },
    "kernelspec": {
      "name": "python3",
      "display_name": "Python 3"
    },
    "language_info": {
      "name": "python"
    }
  },
  "cells": [
    {
      "cell_type": "code",
      "execution_count": null,
      "metadata": {
        "colab": {
          "base_uri": "https://localhost:8080/"
        },
        "id": "HNnjDtlPvM2B",
        "outputId": "93e98cd9-6500-4ae9-e51f-2d759e908886"
      },
      "outputs": [
        {
          "output_type": "stream",
          "name": "stdout",
          "text": [
            "Requirement already satisfied: pycryptodome in /usr/local/lib/python3.10/dist-packages (3.19.0)\n"
          ]
        }
      ],
      "source": [
        "!pip install pycryptodome"
      ]
    },
    {
      "cell_type": "code",
      "source": [
        "from Crypto.Cipher import Blowfish\n",
        "from Crypto import Random\n",
        "\n",
        "class BlowfishCipher:\n",
        "    def __init__(self, key):\n",
        "        self.key = key\n",
        "        self.block_size = Blowfish.block_size\n",
        "        self.cipher = None\n",
        "\n",
        "    def pad(self, data):\n",
        "        padding = self.block_size - len(data) % self.block_size\n",
        "        return data + bytes([padding] * padding)\n",
        "\n",
        "    def unpad(self, data):\n",
        "        padding = data[-1]\n",
        "        return data[:-padding]\n",
        "\n",
        "    def encrypt(self, plaintext):\n",
        "        plaintext = self.pad(plaintext)\n",
        "        iv = Random.new().read(self.block_size)\n",
        "        self.cipher = Blowfish.new(self.key, Blowfish.MODE_CBC, bytes(iv))  # Convert iv to bytes\n",
        "        ciphertext = iv + self.cipher.encrypt(plaintext)\n",
        "        return ciphertext\n",
        "\n",
        "    def decrypt(self, ciphertext):\n",
        "        iv = ciphertext[:self.block_size]\n",
        "        self.cipher = Blowfish.new(self.key, Blowfish.MODE_CBC, bytes(iv))  # Convert iv to bytes\n",
        "        plaintext = self.cipher.decrypt(ciphertext[self.block_size:])\n",
        "        return self.unpad(plaintext)\n",
        "\n",
        "if __name__ == \"__main__\":\n",
        "    # Replace 'your_secret_key' with your actual secret key\n",
        "    secret_key = b'your_secret_key'\n",
        "    Cipher = BlowfishCipher(secret_key)\n",
        "\n",
        "    plaintext = b'Hello, Blowfish!'\n",
        "    print(f\"Original Text: {plaintext.decode('utf-8')}\")\n",
        "\n",
        "    encrypted_text = Cipher.encrypt(plaintext)\n",
        "    print(f\"Encrypted Text: {encrypted_text.hex()}\")\n",
        "\n",
        "    decrypted_text = Cipher.decrypt(encrypted_text)\n",
        "    print(f\"Decrypted Text: {decrypted_text.decode('utf-8')}\")\n"
      ],
      "metadata": {
        "colab": {
          "base_uri": "https://localhost:8080/",
          "height": 245
        },
        "id": "kZCl1W1LvUny",
        "outputId": "945ae7fc-5f3c-4227-8eef-1cc58c9489e6"
      },
      "execution_count": null,
      "outputs": [
        {
          "output_type": "error",
          "ename": "TypeError",
          "evalue": "ignored",
          "traceback": [
            "\u001b[0;31m---------------------------------------------------------------------------\u001b[0m",
            "\u001b[0;31mTypeError\u001b[0m                                 Traceback (most recent call last)",
            "\u001b[0;32m<ipython-input-5-bd1325fa2805>\u001b[0m in \u001b[0;36m<cell line: 31>\u001b[0;34m()\u001b[0m\n\u001b[1;32m     32\u001b[0m     \u001b[0;31m# Replace 'your_secret_key' with your actual secret key\u001b[0m\u001b[0;34m\u001b[0m\u001b[0;34m\u001b[0m\u001b[0m\n\u001b[1;32m     33\u001b[0m     \u001b[0msecret_key\u001b[0m \u001b[0;34m=\u001b[0m \u001b[0;34mb'your_secret_key'\u001b[0m\u001b[0;34m\u001b[0m\u001b[0;34m\u001b[0m\u001b[0m\n\u001b[0;32m---> 34\u001b[0;31m     \u001b[0mCipher\u001b[0m \u001b[0;34m=\u001b[0m \u001b[0mBlowfishCipher\u001b[0m\u001b[0;34m(\u001b[0m\u001b[0msecret_key\u001b[0m\u001b[0;34m)\u001b[0m\u001b[0;34m\u001b[0m\u001b[0;34m\u001b[0m\u001b[0m\n\u001b[0m\u001b[1;32m     35\u001b[0m \u001b[0;34m\u001b[0m\u001b[0m\n\u001b[1;32m     36\u001b[0m     \u001b[0mplaintext\u001b[0m \u001b[0;34m=\u001b[0m \u001b[0;34mb'Hello, Blowfish!'\u001b[0m\u001b[0;34m\u001b[0m\u001b[0;34m\u001b[0m\u001b[0m\n",
            "\u001b[0;31mTypeError\u001b[0m: BlowfishCipher() takes no arguments"
          ]
        }
      ]
    }
  ]
}