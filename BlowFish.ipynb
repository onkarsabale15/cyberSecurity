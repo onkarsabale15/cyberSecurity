{
  "cells": [
    {
      "cell_type": "code",
      "execution_count": null,
      "metadata": {
        "colab": {
          "base_uri": "https://localhost:8080/"
        },
        "id": "HNnjDtlPvM2B",
        "outputId": "93e98cd9-6500-4ae9-e51f-2d759e908886"
      },
      "outputs": [
        {
          "name": "stdout",
          "output_type": "stream",
          "text": [
            "Requirement already satisfied: pycryptodome in /usr/local/lib/python3.10/dist-packages (3.19.0)\n"
          ]
        }
      ],
      "source": [
        "!pip install pycryptodome"
      ]
    },
    {
      "cell_type": "code",
      "execution_count": 2,
      "metadata": {
        "colab": {
          "base_uri": "https://localhost:8080/",
          "height": 245
        },
        "id": "kZCl1W1LvUny",
        "outputId": "945ae7fc-5f3c-4227-8eef-1cc58c9489e6"
      },
      "outputs": [
        {
          "name": "stdout",
          "output_type": "stream",
          "text": [
            "Original Text: Hello, Blowfish!\n",
            "Encrypted Text: 162766545b1e8e6bccb3566e2b6c5a2693302b9a365937f4f14c1e717a4e4446\n",
            "Decrypted Text: Hello, Blowfish!\n"
          ]
        }
      ],
      "source": [
        "from Crypto.Cipher import Blowfish\n",
        "from Crypto import Random\n",
        "\n",
        "class BlowfishCipher:\n",
        "    def __init__(self, key):\n",
        "        self.key = key\n",
        "        self.block_size = Blowfish.block_size\n",
        "        self.cipher = None\n",
        "\n",
        "    def pad(self, data):\n",
        "        padding = self.block_size - len(data) % self.block_size\n",
        "        return data + bytes([padding] * padding)\n",
        "\n",
        "    def unpad(self, data):\n",
        "        padding = data[-1]\n",
        "        return data[:-padding]\n",
        "\n",
        "    def encrypt(self, plaintext):\n",
        "        plaintext = self.pad(plaintext)\n",
        "        iv = Random.new().read(self.block_size)\n",
        "        self.cipher = Blowfish.new(self.key, Blowfish.MODE_CBC, bytes(iv))  # Convert iv to bytes\n",
        "        ciphertext = iv + self.cipher.encrypt(plaintext)\n",
        "        return ciphertext\n",
        "\n",
        "    def decrypt(self, ciphertext):\n",
        "        iv = ciphertext[:self.block_size]\n",
        "        self.cipher = Blowfish.new(self.key, Blowfish.MODE_CBC, bytes(iv))  # Convert iv to bytes\n",
        "        plaintext = self.cipher.decrypt(ciphertext[self.block_size:])\n",
        "        return self.unpad(plaintext)\n",
        "\n",
        "if __name__ == \"__main__\":\n",
        "    # Replace 'your_secret_key' with your actual secret key\n",
        "    secret_key = b'your_secret_key'\n",
        "    Cipher = BlowfishCipher(secret_key)\n",
        "\n",
        "    plaintext = b'Hello, Blowfish!'\n",
        "    print(f\"Original Text: {plaintext.decode('utf-8')}\")\n",
        "\n",
        "    encrypted_text = Cipher.encrypt(plaintext)\n",
        "    print(f\"Encrypted Text: {encrypted_text.hex()}\")\n",
        "\n",
        "    decrypted_text = Cipher.decrypt(encrypted_text)\n",
        "    print(f\"Decrypted Text: {decrypted_text.decode('utf-8')}\")\n"
      ]
    }
  ],
  "metadata": {
    "colab": {
      "provenance": []
    },
    "kernelspec": {
      "display_name": "Python 3",
      "name": "python3"
    },
    "language_info": {
      "codemirror_mode": {
        "name": "ipython",
        "version": 3
      },
      "file_extension": ".py",
      "mimetype": "text/x-python",
      "name": "python",
      "nbconvert_exporter": "python",
      "pygments_lexer": "ipython3",
      "version": "3.11.6"
    }
  },
  "nbformat": 4,
  "nbformat_minor": 0
}
